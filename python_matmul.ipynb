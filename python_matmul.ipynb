{
 "cells": [
  {
   "cell_type": "code",
   "execution_count": 69,
   "metadata": {},
   "outputs": [],
   "source": [
    "import numpy as np\n",
    "import time\n",
    "\n",
    "A = [[1,2,3],[3,4,5]]\n",
    "B = [[0,1],[1,0],[1,1]]\n",
    "C = np.zeros((len(A), len(B[0])))\n",
    "\n",
    "ar, ac = len(A), len(A[0])\n",
    "br, bc = len(B), len(B[0])"
   ]
  },
  {
   "cell_type": "code",
   "execution_count": 70,
   "metadata": {},
   "outputs": [
    {
     "data": {
      "text/plain": [
       "array([[0., 0.],\n",
       "       [0., 0.]])"
      ]
     },
     "execution_count": 70,
     "metadata": {},
     "output_type": "execute_result"
    }
   ],
   "source": [
    "C"
   ]
  },
  {
   "cell_type": "code",
   "execution_count": 71,
   "metadata": {},
   "outputs": [],
   "source": [
    "# C[0][0] = A[0][0]*B[0][0]+A[0][1]*B[1][0]\n",
    "# C[0][1] = A[0][0]*B[0][1]+A[0][1]*B[1][1]\n",
    "# C[1][0] = A[1][0]*B[0][0]+A[1][1]*B[0][1]\n",
    "# C[1][1] = A[1][0]*B[0][1]+A[1][1]*B[1][1]\n"
   ]
  },
  {
   "cell_type": "code",
   "execution_count": 75,
   "metadata": {},
   "outputs": [
    {
     "data": {
      "text/plain": [
       "0.00012445449829101562"
      ]
     },
     "execution_count": 75,
     "metadata": {},
     "output_type": "execute_result"
    }
   ],
   "source": [
    "start_time = time.time()\n",
    "for i in range(ar):\n",
    "    for j in range(bc):\n",
    "        for k in range(br):\n",
    "            C[i][j] += A[i][k]*B[k][j]\n",
    "\n",
    "end_time = time.time()-start_time\n",
    "end_time\n"
   ]
  },
  {
   "cell_type": "code",
   "execution_count": 74,
   "metadata": {},
   "outputs": [
    {
     "data": {
      "text/plain": [
       "8.869171142578125e-05"
      ]
     },
     "execution_count": 74,
     "metadata": {},
     "output_type": "execute_result"
    }
   ],
   "source": [
    "res = np.zeros((len(A), len(B[0])))\n",
    "start_time = time.time()\n",
    "\n",
    "res = np.dot(A,B)\n",
    "end_time = time.time()-start_time\n",
    "end_time\n"
   ]
  },
  {
   "cell_type": "code",
   "execution_count": null,
   "metadata": {},
   "outputs": [],
   "source": []
  }
 ],
 "metadata": {
  "kernelspec": {
   "display_name": "Python 3",
   "language": "python",
   "name": "python3"
  },
  "language_info": {
   "codemirror_mode": {
    "name": "ipython",
    "version": 3
   },
   "file_extension": ".py",
   "mimetype": "text/x-python",
   "name": "python",
   "nbconvert_exporter": "python",
   "pygments_lexer": "ipython3",
   "version": "3.7.8"
  }
 },
 "nbformat": 4,
 "nbformat_minor": 4
}
