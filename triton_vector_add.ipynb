{
 "cells": [
  {
   "cell_type": "markdown",
   "metadata": {},
   "source": [
    "## Tutorial 1 \n",
    "\n",
    "\n",
    "Vector Addition\n",
    "=================\n",
    "In this tutorial, you will write a simple vector addition using Triton and learn about:\n",
    "\n",
    "- The basic programming model of Triton\n",
    "- The `triton.jit` decorator, which is used to define Triton kernels.\n",
    "- The best practices for validating and benchmarking your custom ops against native reference implementations\n"
   ]
  },
  {
   "cell_type": "code",
   "execution_count": 13,
   "metadata": {},
   "outputs": [],
   "source": [
    "import torch\n",
    "import triton.language as tl\n",
    "import triton\n"
   ]
  },
  {
   "cell_type": "code",
   "execution_count": 14,
   "metadata": {},
   "outputs": [],
   "source": [
    "@triton.jit\n",
    "def _add(\n",
    "    X,  # *pointer* to input vector 1\n",
    "    Y,  # *pointer * to input vector 2\n",
    "    Z,  # *pointer* to output vector\n",
    "    N,  # Size of the vector\n",
    "    **meta  #Optional meta parameters for the kernel \n",
    "            # In meta, block size and compile time constants etc parameters\n",
    "):\n",
    "    #Roughly the start of the block\n",
    "    pid = tl.program_id(0)\n",
    "    \n",
    "    #We dont worry about threads here. We are writing program for\n",
    "    #whole block for now\n",
    "\n",
    "    # Create offset for the block of pointers to be processed \n",
    "    # by the program instance\n",
    "    #Read all the block of pointers\n",
    "    offsets = pid * meta['BLOCK'] + tl.arange(0, meta['BLOCK'])\n",
    "\n",
    "    #Create a mask to guard memory operations against \n",
    "    #out-of-bound accesses\n",
    "\n",
    "    #mask defines the shape. It defines what to load and what to\n",
    "    #leave undefined\n",
    "    mask = offsets < N\n",
    "\n",
    "    #Load x \n",
    "    #scale + arange -> yields block of pointers\n",
    "    load_x_ptrs = X + offsets\n",
    "    load_y_ptrs = Y + offsets\n",
    "\n",
    "    x = tl.load(load_x_ptrs, mask = mask)     # x <- tensor of data\n",
    "    y = tl.load(load_y_ptrs, mask = mask)\n",
    "\n",
    "    #Write x + y\n",
    "    z = x + y\n",
    "    tl.store(Z + offsets, z)\n"
   ]
  },
  {
   "cell_type": "markdown",
   "metadata": {},
   "source": [
    "\n",
    "\n",
    "- Let's also declare a helper function to (1) allocate the `z` tensor\n",
    "and (2) enqueue the above kernel with appropriate grid/block sizes.\n"
   ]
  },
  {
   "cell_type": "code",
   "execution_count": 15,
   "metadata": {},
   "outputs": [],
   "source": [
    "def add(x, y):\n",
    "    z = torch.empty_like(x)\n",
    "    N = z.shape[0]\n",
    "    # The SPMD launch grid denotes the number of kernel instances that run in parallel.\n",
    "    # It is analogous to CUDA launch grids. It can be either Tuple[int], or Callable(metaparameters) -> Tuple[int]\n",
    "    grid = lambda meta: (triton.cdiv(N, meta['BLOCK']), )\n",
    "    # NOTE:\n",
    "    #  - each torch.tensor object is implicitly converted into a pointer to its first element.\n",
    "    #  - `triton.jit`'ed functions can be index with a launch grid to obtain a callable GPU kernel\n",
    "    #  - don't forget to pass meta-parameters as keywords arguments\n",
    "    _add[grid](x, y, z, N, BLOCK=1024)\n",
    "    # We return a handle to z but, since `torch.cuda.synchronize()` hasn't been called, the kernel is still\n",
    "    # running asynchronously at this point.\n",
    "    return z\n"
   ]
  },
  {
   "cell_type": "markdown",
   "metadata": {},
   "source": [
    "\n",
    "- We can now use the above function to compute the element-wise sum of two `torch.tensor` objects and test its correctness:\n"
   ]
  },
  {
   "cell_type": "code",
   "execution_count": 16,
   "metadata": {},
   "outputs": [
    {
     "name": "stdout",
     "output_type": "stream",
     "text": [
      "tensor([1.3713, 1.3076, 0.4940,  ..., 1.1495, 0.9265, 1.1323], device='cuda:0')\n",
      "tensor([1.3713, 1.3076, 0.4940,  ..., 1.1495, 0.9265, 1.1323], device='cuda:0')\n",
      "The maximum difference between torch and triton is 0.0\n"
     ]
    }
   ],
   "source": [
    "torch.manual_seed(0)\n",
    "size = 98432\n",
    "x = torch.rand(size, device='cuda')\n",
    "y = torch.rand(size, device='cuda')\n",
    "za = x + y\n",
    "zb = add(x, y)\n",
    "print(za)\n",
    "print(zb)\n",
    "print(f'The maximum difference between torch and triton is ' f'{torch.max(torch.abs(za - zb))}')\n"
   ]
  },
  {
   "cell_type": "markdown",
   "metadata": {},
   "source": [
    "\n",
    "# Benchmark\n",
    "# -----------\n",
    " - We can now benchmark our custom op on vectors of increasing sizes to get a sense of how it does relative to PyTorch.\n",
    " - To make things easier, Triton has a set of built-in utilities that allow us to concisely plot the performance of your custom ops\n",
    " - for different problem sizes.\n"
   ]
  },
  {
   "cell_type": "code",
   "execution_count": 18,
   "metadata": {},
   "outputs": [],
   "source": [
    "@triton.testing.perf_report(\n",
    "    triton.testing.Benchmark(\n",
    "        x_names=['size'],  # argument names to use as an x-axis for the plot\n",
    "        x_vals=[2**i for i in range(12, 28, 1)],  # different possible values for `x_name`\n",
    "        x_log=True,  # x axis is logarithmic\n",
    "        line_arg='provider',  # argument name whose value corresponds to a different line in the plot\n",
    "        line_vals=['triton', 'torch'],  # possible values for `line_arg`\n",
    "        line_names=[\"Triton\", \"Torch\"],  # label name for the lines\n",
    "        styles=[('blue', '-'), ('green', '-')],  # line styles\n",
    "        ylabel=\"GB/s\",  # label name for the y-axis\n",
    "        plot_name=\"vector-add-performance\",  # name for the plot. Used also as a file name for saving the plot.\n",
    "        args={}  # values for function arguments not in `x_names` and `y_name`\n",
    "    )\n",
    ")\n",
    "def benchmark(size, provider):\n",
    "    x = torch.rand(size, device='cuda', dtype=torch.float32)\n",
    "    y = torch.rand(size, device='cuda', dtype=torch.float32)\n",
    "    if provider == 'torch':\n",
    "        ms, min_ms, max_ms = triton.testing.do_bench(lambda: x + y)\n",
    "    if provider == 'triton':\n",
    "        ms, min_ms, max_ms = triton.testing.do_bench(lambda: add(x, y))\n",
    "    gbps = lambda ms: 12 * size / ms * 1e-6\n",
    "    return gbps(ms), gbps(max_ms), gbps(min_ms)"
   ]
  },
  {
   "cell_type": "code",
   "execution_count": 11,
   "metadata": {},
   "outputs": [],
   "source": []
  },
  {
   "cell_type": "markdown",
   "metadata": {},
   "source": [
    "\n",
    "\n",
    "\n",
    " - We can now run the decorated function above. Pass `print_data=True` to see the performance number, `show_plots=True` to plot them, and/or\n",
    " - save_path='/path/to/results/' to save them to disk along with raw CSV data"
   ]
  },
  {
   "cell_type": "code",
   "execution_count": 19,
   "metadata": {},
   "outputs": [
    {
     "data": {
      "image/png": "[encoded data removed]",
      "text/plain": [
       "<Figure size 432x288 with 1 Axes>"
      ]
     },
     "metadata": {
      "needs_background": "light"
     },
     "output_type": "display_data"
    },
    {
     "name": "stdout",
     "output_type": "stream",
     "text": [
      "vector-add-performance:\n",
      "           size      Triton       Torch\n",
      "0        4096.0   11.906977   12.000000\n",
      "1        8192.0   29.257143   28.710280\n",
      "2       16384.0   54.857142   54.857142\n",
      "3       32768.0   99.096776   99.096776\n",
      "4       65536.0  176.805760  174.297876\n",
      "5      131072.0  276.134828  264.258058\n",
      "6      262144.0  378.092307  352.344086\n",
      "7      524288.0  434.013258  407.055892\n",
      "8     1048576.0  473.754231  469.231516\n",
      "9     2097152.0  511.334216  507.375469\n",
      "10    4194304.0  527.629634  526.041480\n",
      "11    8388608.0  536.722047  536.722047\n",
      "12   16777216.0  540.224639  542.460410\n",
      "13   33554432.0  542.764627  544.832722\n",
      "14   67108864.0  543.362286  546.121493\n",
      "15  134217728.0  543.849593  546.240016\n"
     ]
    }
   ],
   "source": [
    "benchmark.run(print_data=True, show_plots=True)"
   ]
  },
  {
   "cell_type": "code",
   "execution_count": null,
   "metadata": {},
   "outputs": [],
   "source": []
  }
 ],
 "metadata": {
  "kernelspec": {
   "display_name": "Python 3",
   "language": "python",
   "name": "python3"
  },
  "language_info": {
   "codemirror_mode": {
    "name": "ipython",
    "version": 3
   },
   "file_extension": ".py",
   "mimetype": "text/x-python",
   "name": "python",
   "nbconvert_exporter": "python",
   "pygments_lexer": "ipython3",
   "version": "3.7.8"
  }
 },
 "nbformat": 4,
 "nbformat_minor": 4
}
