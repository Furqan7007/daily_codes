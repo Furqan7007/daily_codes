{
 "cells": [
  {
   "cell_type": "markdown",
   "metadata": {},
   "source": [
    "\n",
    "Fused Softmax\n",
    "=================\n",
    "In this tutorial, you will write a fused softmax operation that is significantly faster than PyTorch's native op for a particular class of matrices: those whose rows can fit in the GPU's SRAM.\n",
    "You will learn about:\n",
    "\n",
    "- The benefits of kernel fusion for bandwidth-bound operations.\n",
    "- Reduction operators in Triton.\n",
    "\n",
    "\n",
    "# Motivations\n",
    " - Custom GPU kernels for elementwise additions are educationally valuable but won't get you very far in practice.\n",
    " - Let us consider instead the case of a simple (numerically stabilized) softmax operation:\n"
   ]
  },
  {
   "cell_type": "code",
   "execution_count": 5,
   "metadata": {},
   "outputs": [],
   "source": [
    "import torch\n",
    "import triton\n",
    "import triton.language as tl"
   ]
  },
  {
   "cell_type": "code",
   "execution_count": 6,
   "metadata": {},
   "outputs": [],
   "source": [
    "# Compute the row-wise softmax of x\n",
    "@torch.jit.script\n",
    "def naive_softmax(x):\n",
    "    # read  MN elements ; write M  elements\n",
    "    x_max = x.max(dim=1)[0]\n",
    "    # read 2MN elements ; write MN elements\n",
    "    z = x - x_max[:, None]\n",
    "    # read  MN elements ; write MN elements\n",
    "    numerator = torch.exp(z)\n",
    "    # read  MN elements ; write M  elements\n",
    "    denominator = numerator.sum(dim=1)\n",
    "    # read 2MN elements ; write MN elements\n",
    "    ret = numerator / denominator[:, None]\n",
    "    # in total: read 7MN elements ; wrote 3MN + 2M elements\n",
    "    return ret\n",
    "\n"
   ]
  },
  {
   "cell_type": "code",
   "execution_count": 7,
   "metadata": {},
   "outputs": [],
   "source": [
    "# %%\n",
    "# When implemented naively in pytorch, computing :code:`y = naive_softmax(x)` for :math:`x \\in R^{M \\times N}` requires reading :math:`7MN` elements from DRAM and writing back :math:`3MN + 2M` elements.\n",
    "# This is obviously wasteful; we'd prefer to have a custom \"fused\" kernel that only reads X once and does all the necessary computations on-chip.\n",
    "# Doing so would require reading and writing back only :math:`MN` bytes, so we could expect a theoretical speed-up of ~5x (i.e., :math:`(10MN + 2M) / 2MN`).\n",
    "# The `torch.jit.script` flags aims to perform this kind of \"kernel fusion\" automatically but, as we will see later, it is still far from ideal.\n",
    "\n",
    "# %%\n",
    "# Compute Kernel\n",
    "# ----------------\n",
    "# Our softmax kernel works as follows: each program loads a row of the input matrix X, normalizes it and writes back the result to the output Y.\n",
    "# Note that one important limitation of Triton is that each block must have a power-of-two number of elements,\n",
    "# so we need to internally \"pad\" each row and guard the memory operations properly if we want to handle any possible input shapes:"
   ]
  },
  {
   "cell_type": "code",
   "execution_count": 8,
   "metadata": {},
   "outputs": [],
   "source": [
    "#Softmax(dim=0)\n",
    "@triton.jit\n",
    "def _softmax(Y,  #output pointer \n",
    "             X,  #input pointer\n",
    "             stride_xm, #stride tells us which to normalize\n",
    "             stride_ym, #\n",
    "             M, #num of rows\n",
    "             N, #num of cols\n",
    "             **meta):\n",
    "\n",
    "    ## Note : Here stride is basically the amount you have to \n",
    "    ## move in memory to get to the next element\n",
    "    ## Ex: so if x is 2D, lets say x = torch.randn(10, 20), \n",
    "    ##  then x[1, 1].data_ptr() = x[1, 0].data_ptr() + x.stride(1)\n",
    "\n",
    "    # 1 program id per row index\n",
    "    m = tl.program_id(0)\n",
    "    \n",
    "    # col indices\n",
    "    # here BLOCK is the smallest power of two greater than `N`\n",
    "    # In triton, the block size always has to be the power of 2\n",
    "    # in general powers of 2 nicely fit / align with cache lines\n",
    "\n",
    "    n = tl.arange(0, meta['BLOCK'])\n",
    "\n",
    "    # the memory address of all the elements\n",
    "    # that we want to load can be computed as follows\n",
    "    #   m * stride_xm + n is how forward we want to move for the next pointer\n",
    "\n",
    "    X = X + m * stride_xm + n  \n",
    "\n",
    "    # x is the vector of values loaded. \n",
    "    # - float(inf) is so we dont go over the edge\n",
    "    # if we do , penalize it and make it come back \n",
    "    x = tl.load(X, mask=n < N, other=-float('inf'))\n",
    "\n",
    "    # Substract maximum for numerical stability\n",
    "    z = x - tl.max(x, axis=0)\n",
    "    # Note that exponentials in Triton are fast\n",
    "    # but approximate (i.e., think __expf in CUDA)\n",
    "    num = tl.exp(z)\n",
    "    denom = tl.sum(num, axis=0)\n",
    "    y = num / denom\n",
    "    # Write back to Y\n",
    "    Y = Y + m * stride_ym + n\n",
    "    tl.store(Y, y, mask=n < N)"
   ]
  },
  {
   "cell_type": "code",
   "execution_count": 9,
   "metadata": {},
   "outputs": [],
   "source": [
    "# %%\n",
    "# We can create a helper function that enqueues the kernel and its (meta-)arguments for any given input tensor.\n",
    "\n",
    "\n",
    "def next_power_of_2(n):\n",
    "    n -= 1\n",
    "    n |= n >> 1\n",
    "    n |= n >> 2\n",
    "    n |= n >> 4\n",
    "    n |= n >> 8\n",
    "    n |= n >> 16\n",
    "    n += 1\n",
    "    return n\n"
   ]
  },
  {
   "cell_type": "code",
   "execution_count": 10,
   "metadata": {},
   "outputs": [],
   "source": [
    "def softmax(x):\n",
    "    M, N = x.shape\n",
    "    # The block size is the smallest power of two greater than the number of columns in `x`\n",
    "    BLOCK = next_power_of_2(N)\n",
    "    # Another trick we can use is to ask the compiler to use more threads per row by\n",
    "    # increasing the number of warps (`num_warps`) over which each row is distributed.\n",
    "    # You will see in the next tutorial how to auto-tune this value in a more natural\n",
    "    # way so you don't have to come up with manual heuristics yourself.\n",
    "    num_warps = 4\n",
    "    if BLOCK >= 2048: num_warps = 8\n",
    "    if BLOCK >= 4096: num_warps = 16\n",
    "    # Allocate output\n",
    "    y = torch.empty_like(x)\n",
    "    # Enqueue kernel. The launch grid is simple: we have one kernel instance per row of the input matrix\n",
    "    _softmax[(M, )](y, x, \n",
    "                    x.stride(0), y.stride(0), \n",
    "                    M, N, \n",
    "                    num_warps=num_warps, BLOCK=BLOCK)\n",
    "    return y\n",
    "\n"
   ]
  },
  {
   "cell_type": "code",
   "execution_count": 11,
   "metadata": {},
   "outputs": [],
   "source": [
    "# %%\n",
    "# Unit Test\n",
    "# ----------\n",
    "\n",
    "# %%\n",
    "# We make sure that we test our kernel on a matrix with an irregular number of rows and columns.\n",
    "# This will allow us to verify that our padding mechanism works.\n"
   ]
  },
  {
   "cell_type": "code",
   "execution_count": 12,
   "metadata": {},
   "outputs": [
    {
     "name": "stdout",
     "output_type": "stream",
     "text": [
      "True\n"
     ]
    }
   ],
   "source": [
    "torch.manual_seed(0)\n",
    "x = torch.randn(1823, 781, device='cuda')\n",
    "y_tri = softmax(x)\n",
    "y_ref = torch.softmax(x, axis=1)\n",
    "print(torch.allclose(y_tri, y_ref))\n",
    "\n",
    "#%%\n",
    "# As expected, the results are identical.\n"
   ]
  },
  {
   "cell_type": "code",
   "execution_count": 13,
   "metadata": {},
   "outputs": [],
   "source": [
    "# %%\n",
    "# Benchmark\n",
    "# -------------\n",
    "# Here we will benchmark our operation as a function of the number of columns in the input matrix -- assuming 4096 rows.\n",
    "# We will then compare its performance against (1) :code:`torch.softmax` and (2) the :code:`naive_softmax` defined above.\n"
   ]
  },
  {
   "cell_type": "code",
   "execution_count": 14,
   "metadata": {},
   "outputs": [],
   "source": [
    "@triton.testing.perf_report(\n",
    "    triton.testing.Benchmark(\n",
    "        x_names=['N'],  # argument names to use as an x-axis for the plot\n",
    "        x_vals=[128 * i for i in range(2, 100)],  # different possible values for `x_name`\n",
    "        line_arg='provider',  # argument name whose value corresponds to a different line in the plot\n",
    "        line_vals=['triton', 'torch-native', 'torch-jit'],  # possible values for `line_arg``\n",
    "        line_names=[\"Triton\", \"Torch (native)\", \"Torch (jit)\"],  # label name for the lines\n",
    "        styles=[('blue', '-'), ('green', '-'), ('green', '--')],  # line styles\n",
    "        ylabel=\"GB/s\",  # label name for the y-axis\n",
    "        plot_name=\"softmax-performance\",  # name for the plot. Used also as a file name for saving the plot.\n",
    "        args={'M': 4096}  # values for function arguments not in `x_names` and `y_name`\n",
    "    )\n",
    ")\n",
    "def benchmark(M, N, provider):\n",
    "    x = torch.randn(M, N, device='cuda', dtype=torch.float32)\n",
    "    if provider == 'torch-native':\n",
    "        ms, min_ms, max_ms = triton.testing.do_bench(lambda: torch.softmax(x, axis=-1))\n",
    "    if provider == 'triton':\n",
    "        ms, min_ms, max_ms = triton.testing.do_bench(lambda: softmax(x))\n",
    "    if provider == 'torch-jit':\n",
    "        ms, min_ms, max_ms = triton.testing.do_bench(lambda: naive_softmax(x))\n",
    "    gbps = lambda ms: 2 * x.nelement() * x.element_size() * 1e-9 / (ms * 1e-3)\n",
    "    return gbps(ms), gbps(max_ms), gbps(min_ms)\n"
   ]
  },
  {
   "cell_type": "code",
   "execution_count": 15,
   "metadata": {},
   "outputs": [
    {
     "data": {
      "image/png": "[encoded data removed]",
      "text/plain": [
       "<Figure size 432x288 with 1 Axes>"
      ]
     },
     "metadata": {
      "needs_background": "light"
     },
     "output_type": "display_data"
    },
    {
     "name": "stdout",
     "output_type": "stream",
     "text": [
      "softmax-performance:\n",
      "          N      Triton  Torch (native)  Torch (jit)\n",
      "0     256.0  410.241017      434.013244   148.945453\n",
      "1     384.0  472.615390      450.935778   148.159762\n",
      "2     512.0  479.677926      456.696860   152.809091\n",
      "3     640.0  487.619051      456.378833   154.274945\n",
      "4     768.0  496.484863      472.899587   156.193051\n",
      "..      ...         ...             ...          ...\n",
      "93  12160.0  516.117037      276.412725   130.859866\n",
      "94  12288.0  517.432019      278.007825   130.810376\n",
      "95  12416.0  515.592028      277.367783   130.673245\n",
      "96  12544.0  517.278369      276.558933   130.751788\n",
      "97  12672.0  515.662361      275.929321   130.718141\n",
      "\n",
      "[98 rows x 4 columns]\n"
     ]
    }
   ],
   "source": [
    "benchmark.run(show_plots=True, print_data=True)"
   ]
  },
  {
   "cell_type": "code",
   "execution_count": null,
   "metadata": {},
   "outputs": [],
   "source": [
    "# %%\n",
    "# In the above plot, we can see that:\n",
    "#\n",
    "#  - Triton is 2-3x faster than the Torch JIT.\n",
    "#  - Triton is even faster than :code:`torch.softmax`. My guess from looking at the source-code of the `PyTorch kernel <https://github.com/pytorch/pytorch/blob/9409a3a39b7149bb2d833a89e0c944109bef7c27/caffe2/operators/softmax_ops.cu#L240>`_ is that PyTorch only partially fuses the computation of the softmax.\n",
    "#    This means that -- when temporary data is too large to fit entirely in the GPU's cache -- it transfers almost twice the amount of memory necessary.\n",
    "#    Note that our Triton kernel is not only faster than PyTorch's CUDA kernel, it is also **easier to read, understand and maintain**."
   ]
  },
  {
   "cell_type": "code",
   "execution_count": null,
   "metadata": {},
   "outputs": [],
   "source": []
  }
 ],
 "metadata": {
  "kernelspec": {
   "display_name": "Python 3",
   "language": "python",
   "name": "python3"
  },
  "language_info": {
   "codemirror_mode": {
    "name": "ipython",
    "version": 3
   },
   "file_extension": ".py",
   "mimetype": "text/x-python",
   "name": "python",
   "nbconvert_exporter": "python",
   "pygments_lexer": "ipython3",
   "version": "3.7.8"
  }
 },
 "nbformat": 4,
 "nbformat_minor": 4
}
