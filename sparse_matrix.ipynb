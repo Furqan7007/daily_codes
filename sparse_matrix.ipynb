{
 "cells": [
  {
   "cell_type": "markdown",
   "metadata": {},
   "source": [
    "Sparse Matrix and its representations : \n",
    "\n",
    "Matrix : two-dimensional data object made of m rows and n columns.\n",
    " therefore having total m x n values. \n",
    " \n",
    "Sparse Matrix : If most of the elements of the matrix have 0 value, then it is called a sparse matrix."
   ]
  },
  {
   "cell_type": "markdown",
   "metadata": {},
   "source": [
    "We store only non-zero elements in a sparse matrix as a triplet(Row, column, value). \n",
    "\n",
    "Some common representations:\n",
    "1. Array Representation\n",
    "2. Linked List Representation"
   ]
  },
  {
   "cell_type": "markdown",
   "metadata": {},
   "source": [
    "*Method 1 : Using Arrays*\n",
    "\n",
    "2D array is used to represent a sparse matrix in which there are 3 rows :\n",
    "1. Row indexes\n",
    "2. Column indexes\n",
    "3. Non zero value"
   ]
  },
  {
   "cell_type": "markdown",
   "metadata": {},
   "source": []
  },
  {
   "cell_type": "code",
   "execution_count": 11,
   "metadata": {},
   "outputs": [
    {
     "name": "stdout",
     "output_type": "stream",
     "text": [
      "Num of non zero elements 6\n",
      "[[0. 0. 1. 1. 3. 3.]\n",
      " [2. 4. 2. 3. 1. 2.]\n",
      " [3. 4. 5. 7. 2. 6.]]\n"
     ]
    }
   ],
   "source": [
    "## Code to represent sparse matrix in array representation \n",
    "import numpy as np\n",
    "\n",
    "# sparse_matrix = [[2,0,0,1], [0,0,3,4], [1,6,0,0], [0,0,0,8]]\n",
    "sparse_matrix = [[0,0,3,0,4],[0,0,5,7,0],[0,0,0,0,0],[0,2,6,0,0]]\n",
    "\n",
    "num_nnz = 0\n",
    "for i, row in enumerate(sparse_matrix):\n",
    "    for j, col in enumerate(row):\n",
    "        if sparse_matrix[i][j]!=0:\n",
    "            num_nnz +=1\n",
    "            \n",
    "print(\"Num of non zero elements {}\".format(num_nnz))\n",
    "\n",
    "output_array = np.zeros((3,num_nnz))\n",
    "nnz =0\n",
    "for i, row in enumerate(sparse_matrix):\n",
    "    for j, col in enumerate(row):\n",
    "        if sparse_matrix[i][j]!=0:\n",
    "            output_array[0][nnz]=i\n",
    "            output_array[1][nnz] = j\n",
    "            output_array[2][nnz] = sparse_matrix[i][j]\n",
    "            nnz +=1\n",
    "\n",
    "print(output_array)"
   ]
  },
  {
   "cell_type": "markdown",
   "metadata": {},
   "source": []
  },
  {
   "cell_type": "markdown",
   "metadata": {},
   "source": []
  }
 ],
 "metadata": {
  "kernelspec": {
   "display_name": "Python 3",
   "language": "python",
   "name": "python3"
  },
  "language_info": {
   "codemirror_mode": {
    "name": "ipython",
    "version": 3
   },
   "file_extension": ".py",
   "mimetype": "text/x-python",
   "name": "python",
   "nbconvert_exporter": "python",
   "pygments_lexer": "ipython3",
   "version": "3.6.10"
  }
 },
 "nbformat": 4,
 "nbformat_minor": 2
}
