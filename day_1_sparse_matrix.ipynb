{
 "cells": [
  {
   "cell_type": "markdown",
   "metadata": {},
   "source": [
    "Sparse Matrix and its representations : \n",
    "\n",
    "Matrix : two-dimensional data object made of m rows and n columns.\n",
    " therefore having total m x n values. \n",
    " \n",
    "Sparse Matrix : If most of the elements of the matrix have 0 value, then it is called a sparse matrix."
   ]
  },
  {
   "cell_type": "markdown",
   "metadata": {},
   "source": [
    "We store only non-zero elements in a sparse matrix as a triplet(Row, column, value). \n",
    "\n",
    "Some common representations:\n",
    "1. Array Representation\n",
    "2. Linked List Representation\n",
    "3. CSR Format"
   ]
  },
  {
   "cell_type": "markdown",
   "metadata": {},
   "source": [
    "*Method 1 : Using Arrays*\n",
    "\n",
    "2D array is used to represent a sparse matrix in which there are 3 rows :\n",
    "\n",
    "        Row indexes\n",
    "        Column indexes\n",
    "        Non zero value"
   ]
  },
  {
   "cell_type": "markdown",
   "metadata": {},
   "source": []
  },
  {
   "cell_type": "code",
   "execution_count": 21,
   "metadata": {},
   "outputs": [
    {
     "name": "stdout",
     "output_type": "stream",
     "text": [
      "Num of non zero elements 6\n",
      "[[0. 0. 1. 1. 3. 3.]\n",
      " [2. 4. 2. 3. 1. 2.]\n",
      " [3. 4. 5. 7. 2. 6.]]\n"
     ]
    }
   ],
   "source": [
    "## Code to represent sparse matrix in array representation \n",
    "import numpy as np\n",
    "\n",
    "# sparse_matrix = [[2,0,0,1], [0,0,3,4], [1,6,0,0], [0,0,0,8]]\n",
    "sparse_matrix = [[0,0,3,0,4],[0,0,5,7,0],[0,0,0,0,0],[0,2,6,0,0]]\n",
    "\n",
    "num_nnz = 0\n",
    "for i, row in enumerate(sparse_matrix):\n",
    "    for j, col in enumerate(row):\n",
    "        if sparse_matrix[i][j]!=0:\n",
    "            num_nnz +=1\n",
    "            \n",
    "print(\"Num of non zero elements {}\".format(num_nnz))\n",
    "\n",
    "output_array = np.zeros((3,num_nnz))\n",
    "nnz =0\n",
    "for i, row in enumerate(sparse_matrix):\n",
    "    for j, col in enumerate(row):\n",
    "        if sparse_matrix[i][j]!=0:\n",
    "            output_array[0][nnz]=i\n",
    "            output_array[1][nnz] = j\n",
    "            output_array[2][nnz] = sparse_matrix[i][j]\n",
    "            nnz +=1\n",
    "\n",
    "print(output_array)"
   ]
  },
  {
   "cell_type": "markdown",
   "metadata": {},
   "source": [
    "##Using Linked List Representation for sparse matrices\n",
    "\n",
    "In linked list, each node has four fields. These four fields are defined as: \n",
    "\n",
    "    Row: Index of row, where non-zero element is located\n",
    "    Column: Index of column, where non-zero element is located\n",
    "    Value: Value of the non zero element located at index – (row,column)\n",
    "    Next node: Address of the next node\n"
   ]
  },
  {
   "cell_type": "code",
   "execution_count": 22,
   "metadata": {},
   "outputs": [
    {
     "name": "stdout",
     "output_type": "stream",
     "text": [
      "row_position: 0 0 1 1 3 3 \n",
      "column_postion: 2 4 2 3 1 2 \n",
      "Value: 3 4 5 7 2 6 \n"
     ]
    }
   ],
   "source": [
    "# Python Program for Representation of\n",
    "# Sparse Matrix into Linked List\n",
    "\n",
    "# Node Class to represent Linked List Node\n",
    "class Node:\n",
    "\n",
    "\t# Making the slots for storing row,\n",
    "\t# column, value, and address\n",
    "\t__slots__ = \"row\", \"col\", \"data\", \"next\"\n",
    "\n",
    "\t# Constructor to initialize the values\n",
    "\tdef __init__(self, row=0, col=0, data=0, next=None):\n",
    "\n",
    "\t\tself.row = row\n",
    "\t\tself.col = col\n",
    "\t\tself.data = data\n",
    "\t\tself.next = next\n",
    "\n",
    "\n",
    "# Class to convert Sparse Matrix\n",
    "# into Linked List\n",
    "class Sparse:\n",
    "\n",
    "\t# Initialize Class Variables\n",
    "\tdef __init__(self):\n",
    "\t\tself.head = None\n",
    "\t\tself.temp = None\n",
    "\t\tself.size = 0\n",
    "\n",
    "\t# Function which returns the size\n",
    "\t# of the Linked List\n",
    "\tdef __len__(self):\n",
    "\t\treturn self.size\n",
    "\n",
    "\t# Check the Linked List is\n",
    "\t# Empty or not\n",
    "\tdef isempty(self):\n",
    "\t\treturn self.size == 0\n",
    "\n",
    "\t# Responsible function to create\n",
    "\t# Linked List from Sparse Matrix\n",
    "\tdef create_new_node(self, row, col, data):\n",
    "\n",
    "\t\t# Creating New Node\n",
    "\t\tnewNode = Node(row, col, data, None)\n",
    "\n",
    "\t\t# Check whether the List is\n",
    "\t\t# empty or not\n",
    "\t\tif self.isempty():\n",
    "\t\t\tself.head = newNode\n",
    "\t\telse:\n",
    "\t\t\tself.temp.next = newNode\n",
    "\t\tself.temp = newNode\n",
    "\n",
    "\t\t# Incrementing the size\n",
    "\t\tself.size += 1\n",
    "\n",
    "\t# Function display the contents of\n",
    "\t# Linked List\n",
    "\tdef PrintList(self):\n",
    "\t\ttemp = r = s = self.head\n",
    "\t\tprint(\"row_position:\", end=\" \")\n",
    "\t\twhile temp != None:\n",
    "\t\t\tprint(temp.row, end=\" \")\n",
    "\t\t\ttemp = temp.next\n",
    "\t\tprint()\n",
    "\t\tprint(\"column_postion:\", end=\" \")\n",
    "\t\twhile r != None:\n",
    "\t\t\tprint(r.col, end=\" \")\n",
    "\t\t\tr = r.next\n",
    "\t\tprint()\n",
    "\t\tprint(\"Value:\", end=\" \")\n",
    "\t\twhile s != None:\n",
    "\t\t\tprint(s.data, end=\" \")\n",
    "\t\t\ts = s.next\n",
    "\t\tprint()\n",
    "\n",
    "# Driver Code\n",
    "if __name__ == \"__main__\":\n",
    "\n",
    "\t# Creating Object\n",
    "\ts = Sparse()\n",
    "\n",
    "\t# Assuming 4x5 Sparse Matrix\n",
    "\tsparseMatric = [[0, 0, 3, 0, 4],\n",
    "\t\t\t\t\t[0, 0, 5, 7, 0],\n",
    "\t\t\t\t\t[0, 0, 0, 0, 0],\n",
    "\t\t\t\t\t[0, 2, 6, 0, 0]]\n",
    "\tfor i in range(4):\n",
    "\t\tfor j in range(5):\n",
    "\n",
    "\t\t\t# Creating Linked List by only those\n",
    "\t\t\t# elements which are non-zero\n",
    "\t\t\tif sparseMatric[i][j] != 0:\n",
    "\t\t\t\ts.create_new_node(i, j, sparseMatric[i][j])\n",
    "\n",
    "\t# Printing the Linked List Representation\n",
    "\t# of the sparse matrix\n",
    "\ts.PrintList()\n",
    "\n",
    "\t# This code is contributed by Naveen Rathore\n"
   ]
  },
  {
   "cell_type": "markdown",
   "metadata": {},
   "source": [
    "    ##CSR Format is a very commonly used format for sparse matrix representation. \n",
    "\n",
    "    CSR Format - Compressed Sparse Row Format. \n",
    "\n",
    "    ##Algorithm for converting Sparse matrix to CSR Format\n",
    "\n",
    "    SPARSIFY (MATRIX)\n",
    "\n",
    "    Step 1: Set M to number of rows in MATRIX\n",
    "\n",
    "    Step 2: Set N to number of columns in MATRIX\n",
    "\n",
    "    Step 3: I = 0, NNZ = 0. Declare A, JA, and IA. \n",
    "            Set IA[0] to 0\n",
    "\n",
    "    Step 4: for I = 0 ... N-1\n",
    "\n",
    "    Step 5: for J = 0 ... N-1\n",
    "\n",
    "    Step 6: If MATRIX [I][J] is not zero\n",
    "\n",
    "               Add MATRIX[I][J] to A\n",
    "\n",
    "               Add J to JA\n",
    "\n",
    "               NNZ = NNZ + 1\n",
    "\n",
    "            [End of IF]\n",
    "\n",
    "    Step 7: [ End of J loop ]\n",
    "\n",
    "            Add NNZ to IA\n",
    "\n",
    "            [ End of I loop ]\n",
    "\n",
    "    Step 8: Print vectors A, IA, JA\n",
    "\n",
    "    Step 9: END"
   ]
  },
  {
   "cell_type": "markdown",
   "metadata": {},
   "source": [
    "The sparsity of the matrix A(m*n) = (1 – NNZ/mn ) or ( 1 – size(A)/mn ) .\n",
    "\n",
    "The direct array based representation required memory 3 * NNZ wile CSR requires ( 2*NNZ + m + 1) memory.\n",
    "\n",
    "CSR matrices are memory efficient as long as NNZ < (m*(n-1) - 1)/2 ."
   ]
  },
  {
   "cell_type": "code",
   "execution_count": 23,
   "metadata": {},
   "outputs": [
    {
     "data": {
      "text/plain": [
       "[[0, 0, 3, 0, 4], [0, 0, 5, 7, 0], [0, 0, 0, 0, 0], [0, 2, 6, 0, 0]]"
      ]
     },
     "execution_count": 23,
     "metadata": {},
     "output_type": "execute_result"
    }
   ],
   "source": [
    "sparse_matrix = [[0, 0, 3, 0, 4],\n",
    "                 [0, 0, 5, 7, 0],\n",
    "                 [0, 0, 0, 0, 0],\n",
    "                 [0, 2, 6, 0, 0]]\n",
    "                \n",
    "sparse_matrix"
   ]
  },
  {
   "cell_type": "code",
   "execution_count": 24,
   "metadata": {},
   "outputs": [
    {
     "name": "stdout",
     "output_type": "stream",
     "text": [
      "A [3, 4, 5, 7, 2, 6]\n",
      "JA [2, 4, 2, 3, 1, 2]\n",
      "IA [0, 2, 4, 4, 6]\n"
     ]
    }
   ],
   "source": [
    "A = []  #Stores the nnz values\n",
    "IA = [0]  \n",
    "JA = []  #Stores the column values for each nnz\n",
    "\n",
    "row_count = 0\n",
    "for i,row in enumerate(sparse_matrix):\n",
    "    for j, col in enumerate(row):\n",
    "        if sparse_matrix[i][j]!=0:\n",
    "            A.append(sparse_matrix[i][j])\n",
    "            JA.append(j)\n",
    "            row_count += 1\n",
    "    IA.append(row_count)\n",
    "\n",
    "print(\"A {}\".format(A))\n",
    "print(\"JA {}\".format(JA))\n",
    "print(\"IA {}\".format(IA))"
   ]
  },
  {
   "cell_type": "code",
   "execution_count": null,
   "metadata": {},
   "outputs": [],
   "source": []
  },
  {
   "cell_type": "code",
   "execution_count": null,
   "metadata": {},
   "outputs": [],
   "source": []
  }
 ],
 "metadata": {
  "kernelspec": {
   "display_name": "Python 3",
   "language": "python",
   "name": "python3"
  },
  "language_info": {
   "codemirror_mode": {
    "name": "ipython",
    "version": 3
   },
   "file_extension": ".py",
   "mimetype": "text/x-python",
   "name": "python",
   "nbconvert_exporter": "python",
   "pygments_lexer": "ipython3",
   "version": "3.6.10"
  }
 },
 "nbformat": 4,
 "nbformat_minor": 2
}
